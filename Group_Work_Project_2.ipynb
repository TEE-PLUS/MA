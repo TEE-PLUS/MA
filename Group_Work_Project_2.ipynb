{
  "nbformat": 4,
  "nbformat_minor": 0,
  "metadata": {
    "colab": {
      "provenance": [],
      "mount_file_id": "1UCDfSLuvLFtoGIN5NwYEKnxkCin1BTcZ",
      "authorship_tag": "ABX9TyM7IejEwio+fc9ARQYx9eG8",
      "include_colab_link": true
    },
    "kernelspec": {
      "name": "python3",
      "display_name": "Python 3"
    },
    "language_info": {
      "name": "python"
    }
  },
  "cells": [
    {
      "cell_type": "markdown",
      "metadata": {
        "id": "view-in-github",
        "colab_type": "text"
      },
      "source": [
        "<a href=\"https://colab.research.google.com/github/TEE-PLUS/MA/blob/main/Group_Work_Project_2.ipynb\" target=\"_parent\"><img src=\"https://colab.research.google.com/assets/colab-badge.svg\" alt=\"Open In Colab\"/></a>"
      ]
    },
    {
      "cell_type": "markdown",
      "source": [
        "# 30 Year Amortization Schedule for a Mortgage"
      ],
      "metadata": {
        "id": "8Y5JDqPgv5K-"
      }
    },
    {
      "cell_type": "code",
      "execution_count": 2,
      "metadata": {
        "colab": {
          "base_uri": "https://localhost:8080/"
        },
        "id": "quYY7SiWa6NP",
        "outputId": "054f2871-7b32-488b-b72a-878a30a9b47e"
      },
      "outputs": [
        {
          "output_type": "stream",
          "name": "stdout",
          "text": [
            "Looking in indexes: https://pypi.org/simple, https://us-python.pkg.dev/colab-wheels/public/simple/\n",
            "Collecting numpy-financial\n",
            "  Downloading numpy_financial-1.0.0-py3-none-any.whl (14 kB)\n",
            "Requirement already satisfied: numpy>=1.15 in /usr/local/lib/python3.9/dist-packages (from numpy-financial) (1.22.4)\n",
            "Installing collected packages: numpy-financial\n",
            "Successfully installed numpy-financial-1.0.0\n"
          ]
        }
      ],
      "source": [
        "\n",
        "%pip install numpy-financial\n",
        "\n"
      ]
    },
    {
      "cell_type": "code",
      "source": [
        "# Importing necessary libraries\n",
        "import pandas as pd\n",
        "import numpy_financial as npf\n",
        "import numpy as np\n",
        "import matplotlib.pyplot as plt\n",
        "from collections import namedtuple\n",
        "plt.rcParams[\"figure.figsize\"] = (8,6)\n",
        "# Defining variables\n",
        "loan_amount = 1000000\n",
        "interest_rate = 0.04 / 12\n",
        "months = 30 * 12\n",
        "payment = -npf.pmt(interest_rate, months, loan_amount)\n",
        "\n",
        "# pandas float formatting_\n",
        "pd.options.display.float_format = '{:,.2f}'.format\n",
        "\n",
        "# Creating dataframe for amortization schedule\n",
        "schedule = pd.DataFrame(index=range(1, months+1), columns=['Fixed Payment amount', 'Principal', 'Interest applied', 'Balance'] )\n",
        "schedule.index.name = \"Month number\"\n",
        "\n",
        "# Set initial values for the first row of the dataframe \n",
        "schedule.iloc[0][\"Fixed Payment amount\"] = payment\n",
        "schedule.iloc[0][\"Interest applied\"] = (interest_rate * loan_amount)\n",
        "schedule.iloc[0][\"Principal\"] = (payment - schedule.iloc[0][\"Interest applied\"])\n",
        "schedule.iloc[0][\"Balance\"] = (loan_amount - schedule.iloc[0][\"Principal\"])\n",
        "# Calculate values for the rest of the rows\n",
        "for i in range(1,months):\n",
        "    schedule.iloc[i][\"Fixed Payment amount\"] = payment\n",
        "    schedule.iloc[i][\"Interest applied\"] = (schedule.iloc[i-1][\"Balance\"] * interest_rate)\n",
        "    schedule.iloc[i][\"Principal\"] = (payment - schedule.iloc[i][\"Interest applied\"])\n",
        "    schedule.iloc[i][\"Balance\"] = (schedule.iloc[i-1][\"Balance\"] - schedule.iloc[i][\"Principal\"])\n",
        "\n",
        "# Displaying schedule for first 24 months\n",
        "print(schedule)"
      ],
      "metadata": {
        "colab": {
          "base_uri": "https://localhost:8080/"
        },
        "id": "RprRFL9dfg-q",
        "outputId": "438ca1ae-2b47-41d4-f507-0a30a72be713"
      },
      "execution_count": 3,
      "outputs": [
        {
          "output_type": "stream",
          "name": "stdout",
          "text": [
            "             Fixed Payment amount Principal Interest applied    Balance\n",
            "Month number                                                           \n",
            "1                        4,774.15  1,440.82         3,333.33 998,559.18\n",
            "2                        4,774.15  1,445.62         3,328.53 997,113.56\n",
            "3                        4,774.15  1,450.44         3,323.71 995,663.12\n",
            "4                        4,774.15  1,455.28         3,318.88 994,207.84\n",
            "5                        4,774.15  1,460.13         3,314.03 992,747.71\n",
            "...                           ...       ...              ...        ...\n",
            "356                      4,774.15  4,695.37            78.78  18,938.53\n",
            "357                      4,774.15  4,711.02            63.13  14,227.50\n",
            "358                      4,774.15  4,726.73            47.43   9,500.78\n",
            "359                      4,774.15  4,742.48            31.67   4,758.29\n",
            "360                      4,774.15  4,758.29            15.86       0.00\n",
            "\n",
            "[360 rows x 4 columns]\n"
          ]
        }
      ]
    },
    {
      "cell_type": "code",
      "source": [
        "# Calculating the Total interest paid\n",
        "Total_interest_paid= schedule['Interest applied'].sum()\n",
        "print(\"Total interest paid :\", f'${(Total_interest_paid):,.2f}')"
      ],
      "metadata": {
        "colab": {
          "base_uri": "https://localhost:8080/"
        },
        "id": "nD87jj8zrFB6",
        "outputId": "5dc96fe0-e227-49dd-ffeb-ce36ae7b9213"
      },
      "execution_count": 4,
      "outputs": [
        {
          "output_type": "stream",
          "name": "stdout",
          "text": [
            "Total interest paid : $718,695.06\n"
          ]
        }
      ]
    },
    {
      "cell_type": "markdown",
      "source": [
        "# 20 Year Amortization Schedule for a Mortgage"
      ],
      "metadata": {
        "id": "Q-kn0xaGxcAK"
      }
    },
    {
      "cell_type": "code",
      "source": [
        "# Mortgage detials \n",
        "original_balance = 1000000   # Initial Mortgage value\n",
        "coupon = 0.025                # Annual Interest rate\n",
        "term = 12 * 20               # Loan Period\n",
        "monthly_rate = ((1 + coupon)  ** (1/12)) - 1\n",
        "# payments\n",
        "periods = range(1, term+1)\n",
        "interest_payment = npf.ipmt(rate=monthly_rate, per=periods, nper=term, pv=-original_balance)\n",
        "principal_payment = npf.ppmt(rate=monthly_rate, per=periods, nper=term, pv=-original_balance)\n",
        "\n",
        "#print(\"Monthly payment:\", round(-npf.pmt(monthly_rate, term, original_balance), 2))\n",
        "\n",
        "# pandas float formatting_\n",
        "pd.options.display.float_format = '{:,.2f}'.format\n",
        "\n",
        "# cash flow table_\n",
        "cf_data = {'Interest': interest_payment, 'Principal': principal_payment}\n",
        "cf_table = pd.DataFrame(data=cf_data, index=periods)\n",
        "cf_table['Payment'] = cf_table['Interest'] + cf_table['Principal']\n",
        "cf_table['Ending Balance'] = original_balance - cf_table['Principal'].cumsum()\n",
        "cf_table['Beginning Balance'] = [original_balance] + list(cf_table['Ending Balance'])[:-1]\n",
        "cf_table = cf_table[['Beginning Balance', 'Payment', 'Interest','Principal', 'Ending Balance']]\n",
        "\n",
        "print (cf_table)\n",
        "\n"
      ],
      "metadata": {
        "colab": {
          "base_uri": "https://localhost:8080/"
        },
        "id": "oa0m0wo9x25y",
        "outputId": "f713adc4-9489-4acb-c221-143725bc7b75"
      },
      "execution_count": 5,
      "outputs": [
        {
          "output_type": "stream",
          "name": "stdout",
          "text": [
            "     Beginning Balance  Payment  Interest  Principal  Ending Balance\n",
            "1         1,000,000.00 5,285.30  2,059.84   3,225.47      996,774.53\n",
            "2           996,774.53 5,285.30  2,053.19   3,232.11      993,542.42\n",
            "3           993,542.42 5,285.30  2,046.53   3,238.77      990,303.65\n",
            "4           990,303.65 5,285.30  2,039.86   3,245.44      987,058.21\n",
            "5           987,058.21 5,285.30  2,033.18   3,252.12      983,806.09\n",
            "..                 ...      ...       ...        ...             ...\n",
            "236          26,264.00 5,285.30     54.10   5,231.20       21,032.79\n",
            "237          21,032.79 5,285.30     43.32   5,241.98       15,790.81\n",
            "238          15,790.81 5,285.30     32.53   5,252.78       10,538.04\n",
            "239          10,538.04 5,285.30     21.71   5,263.60        5,274.44\n",
            "240           5,274.44 5,285.30     10.86   5,274.44            0.00\n",
            "\n",
            "[240 rows x 5 columns]\n"
          ]
        }
      ]
    },
    {
      "cell_type": "code",
      "source": [
        "# Calculating the Total interest paid\n",
        "print(\"Total interest:\", round(np.sum(cf_table.Interest),2))"
      ],
      "metadata": {
        "colab": {
          "base_uri": "https://localhost:8080/"
        },
        "id": "nilzAzwszRX8",
        "outputId": "301655f4-3fc1-4e54-b96c-2fcbcf6bdc3c"
      },
      "execution_count": 6,
      "outputs": [
        {
          "output_type": "stream",
          "name": "stdout",
          "text": [
            "Total interest: 268472.79\n"
          ]
        }
      ]
    },
    {
      "cell_type": "markdown",
      "source": [
        "# 7-1 ARM 30-year mortgage"
      ],
      "metadata": {
        "id": "dTIsquiH7er-"
      }
    },
    {
      "cell_type": "code",
      "source": [],
      "metadata": {
        "colab": {
          "base_uri": "https://localhost:8080/"
        },
        "id": "EsAsWRF1rZvG",
        "outputId": "1b2f5a4c-d579-4f3f-b9b5-f2b88ac7490d"
      },
      "execution_count": 34,
      "outputs": [
        {
          "output_type": "stream",
          "name": "stdout",
          "text": [
            "Total interest: 1472507.45\n"
          ]
        }
      ]
    },
    {
      "cell_type": "code",
      "source": [
        "# Mortgage parameters\n",
        "original_balance = 1000000   # Initial Mortgage value\n",
        "term = 12 * 30               # Loan Period\n",
        "periods = range(1, term+1)\n",
        "#The New interest(changing every January 1992 - 2015), 8.24 is fixed for 7 years\n",
        "# interest_rate = [8.24,8.07,7.29,9.22,7.02,7.67,7.03,6.79,8.15,7.07,7.14,5.85,5.87,5.77,6.21,6.18,6.07,5.01,5.09,4.77,3.91,3.34,4.53,3.73]\n",
        "interest_rate = np.array(pd.read_csv(\"/content/ARM_interest_rates.csv\", header = None).iloc[:, 0])\n",
        "\n",
        "# payments\n",
        "beginning_balance = [original_balance]\n",
        "payment = []\n",
        "interest_payment = []\n",
        "principal_payment = []\n",
        "ending_balance = []\n",
        "for i in range(term):\n",
        "    a = -npf.pmt(interest_rate[i]/(12*100), term-i, beginning_balance[i])\n",
        "    payment.append(a)\n",
        "    b = (interest_rate[i]/(12*100)) * beginning_balance[i]\n",
        "    interest_payment.append(b)\n",
        "    ppl = payment[i] - interest_payment[i]\n",
        "    principal_payment.append(ppl)\n",
        "    ebal = beginning_balance[i] - principal_payment[i]\n",
        "    ending_balance.append(ebal)\n",
        "    if i < (term-1):\n",
        "        beginning_balance.append(ending_balance[i])\n",
        "\n",
        "# cash flow table_\n",
        "cf_data = {'Interest': interest_payment,\n",
        "           'Annual Interest Rate': list(interest_rate),\n",
        "           'Principal': principal_payment, \n",
        "          'Payment': payment, \n",
        "          'Ending Balance': ending_balance,\n",
        "          'Beginning Balance': beginning_balance}\n",
        "cf_table = pd.DataFrame(data=cf_data, index=periods)\n",
        "cf_table = cf_table[['Beginning Balance', 'Payment', 'Interest','Principal', 'Ending Balance', 'Annual Interest Rate']]\n",
        "\n",
        "print(cf_table)"
      ],
      "metadata": {
        "colab": {
          "base_uri": "https://localhost:8080/"
        },
        "id": "Oq6rXdDL1W5w",
        "outputId": "1e2d8345-960a-4c6f-acd9-bc6d7235eed4"
      },
      "execution_count": 38,
      "outputs": [
        {
          "output_type": "stream",
          "name": "stdout",
          "text": [
            "     Beginning Balance  Payment  Interest  Principal  Ending Balance  \\\n",
            "1         1,000,000.00 7,505.64  6,866.67     638.97      999,361.03   \n",
            "2           999,361.03 7,505.64  6,862.28     643.36      998,717.67   \n",
            "3           998,717.67 7,505.64  6,857.86     647.78      998,069.90   \n",
            "4           998,069.90 7,505.64  6,853.41     652.22      997,417.67   \n",
            "5           997,417.67 7,505.64  6,848.93     656.70      996,760.97   \n",
            "..                 ...      ...       ...        ...             ...   \n",
            "356          30,426.07 6,142.08     94.57   6,047.50       24,378.57   \n",
            "357          24,378.57 6,142.08     75.78   6,066.30       18,312.27   \n",
            "358          18,312.27 6,142.08     56.92   6,085.16       12,227.12   \n",
            "359          12,227.12 6,142.08     38.01   6,104.07        6,123.04   \n",
            "360           6,123.04 6,142.08     19.03   6,123.04           -0.00   \n",
            "\n",
            "     Annual Interest Rate  \n",
            "1                    8.24  \n",
            "2                    8.24  \n",
            "3                    8.24  \n",
            "4                    8.24  \n",
            "5                    8.24  \n",
            "..                    ...  \n",
            "356                  3.73  \n",
            "357                  3.73  \n",
            "358                  3.73  \n",
            "359                  3.73  \n",
            "360                  3.73  \n",
            "\n",
            "[360 rows x 6 columns]\n"
          ]
        }
      ]
    },
    {
      "cell_type": "code",
      "source": [
        "# Calculating the Total interest paid\n",
        "print(\"Total interest:\", round(np.sum(cf_table.Interest),2))"
      ],
      "metadata": {
        "colab": {
          "base_uri": "https://localhost:8080/"
        },
        "id": "FsZIRjFw5wC3",
        "outputId": "e019461b-9fa0-42c4-8443-f8c09bd684ae"
      },
      "execution_count": 37,
      "outputs": [
        {
          "output_type": "stream",
          "name": "stdout",
          "text": [
            "Total interest: 1472507.45\n"
          ]
        }
      ]
    },
    {
      "cell_type": "code",
      "source": [],
      "metadata": {
        "id": "kmlMWPXZGqGY"
      },
      "execution_count": null,
      "outputs": []
    }
  ]
}